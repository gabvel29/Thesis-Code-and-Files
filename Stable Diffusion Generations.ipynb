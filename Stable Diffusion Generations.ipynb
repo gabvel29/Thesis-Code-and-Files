{
 "cells": [
  {
   "cell_type": "markdown",
   "id": "07c7c9d2",
   "metadata": {},
   "source": [
    "### Stable Diffusion Generations for Survey"
   ]
  },
  {
   "cell_type": "code",
   "execution_count": 1,
   "id": "da95a68b",
   "metadata": {},
   "outputs": [],
   "source": [
    "#pip install stability-sdk"
   ]
  },
  {
   "cell_type": "code",
   "execution_count": 1,
   "id": "62f5e8d2",
   "metadata": {},
   "outputs": [],
   "source": [
    "import os\n",
    "import io\n",
    "import warnings\n",
    "from PIL import Image\n",
    "from stability_sdk import client\n",
    "import stability_sdk.interfaces.gooseai.generation.generation_pb2 as generation"
   ]
  },
  {
   "cell_type": "markdown",
   "id": "7475f89a",
   "metadata": {},
   "source": [
    "#### Part 1 - Access Stability AI Account"
   ]
  },
  {
   "cell_type": "code",
   "execution_count": 2,
   "id": "751c8a1f",
   "metadata": {},
   "outputs": [],
   "source": [
    "# Our Host URL should not be prepended with \"https\" nor should it have a trailing slash.\n",
    "os.environ['STABILITY_HOST'] = 'grpc.stability.ai:443'"
   ]
  },
  {
   "cell_type": "code",
   "execution_count": 3,
   "id": "9f3066bd",
   "metadata": {},
   "outputs": [],
   "source": [
    "os.environ['STABILITY_KEY'] = 'sk-xOUcYTrHZcjxjrssW9ajggI1tjNEyt1yCqbaSPVhyEcvazLq'"
   ]
  },
  {
   "cell_type": "code",
   "execution_count": 4,
   "id": "2aaa66eb",
   "metadata": {},
   "outputs": [],
   "source": [
    "# Set up our connection to the API.\n",
    "stability_api = client.StabilityInference(\n",
    "    key=os.environ['STABILITY_KEY'], # API Key reference.\n",
    "    verbose=True, # Print debug messages.\n",
    "    engine=\"stable-diffusion-v1-5\", # Set the engine to use for generation. \n",
    "    # Available engines: stable-diffusion-v1 stable-diffusion-v1-5 stable-diffusion-512-v2-0 stable-diffusion-768-v2-0 \n",
    "    # stable-diffusion-512-v2-1 stable-diffusion-768-v2-1 stable-inpainting-v1-0 stable-inpainting-512-v2-0\n",
    ")"
   ]
  },
  {
   "cell_type": "markdown",
   "id": "996aff0b",
   "metadata": {},
   "source": [
    "#### Part 2 - Functions for Image Processing"
   ]
  },
  {
   "cell_type": "code",
   "execution_count": 5,
   "id": "90bde19d",
   "metadata": {},
   "outputs": [],
   "source": [
    "def choosePrompt(sbj):\n",
    "    medium = [\"painting\", \"photograph\", \"3D render\"] #3\n",
    "    subject = [\"person\", \"forest\", \"dog\"] #3\n",
    "    style = [\"Baroque\", \"Neo-Plasticism\", \"digital art\"] #3\n",
    "\n",
    "    #except for prompt with verb - do it seperate\n",
    "    structure_1 = \"<MDM> of <SBJ> in the style of <SYL>\"\n",
    "    structure_2 = \"<SYL> <MDM> of <SBJ>\"\n",
    "    structure_3 = \"<MDM> of <SBJ>, <SYL>\"\n",
    "    structure_4 = \"<MDM> of <SBJ> with <SYL> style\"\n",
    "    structure_5 = \"<MDM>, <SBJ>, <SYL>\"\n",
    "    structure_6 = \"<SBJ>, <MDM>, <SYL>\"\n",
    "\n",
    "    structures = [structure_1, structure_2,structure_3,structure_4,structure_5,structure_6]\n",
    "\n",
    "    # medium - subject - style\n",
    "    countRep = len(medium) + len(style)\n",
    "    sbj_prompt_list = []\n",
    "    tmp_prompt = \"\"\n",
    "    title = []\n",
    "    #painting biss\n",
    "    for i in range(len(style)): #3\n",
    "        for j in range(len(medium)): #3\n",
    "            for k in range(len(structures)): #3\n",
    "                title.append(sbj + \"_\" + style[i] + \"_\" + medium[j] + \"_\" + \"struct\" + str(k)+\".png\")\n",
    "                tmp_prompt = structures[k].replace(\"<MDM>\", medium[j])\n",
    "                tmp_prompt = tmp_prompt.replace(\"<SYL>\", style[i])\n",
    "                tmp_prompt = tmp_prompt.replace(\"<SBJ>\", sbj)\n",
    "                sbj_prompt_list.append(tmp_prompt)  \n",
    "\n",
    "    return sbj_prompt_list, title"
   ]
  },
  {
   "cell_type": "code",
   "execution_count": 6,
   "id": "0d7055b7",
   "metadata": {},
   "outputs": [],
   "source": [
    "#Set Prompts\n",
    "sbj1 = \"person\"\n",
    "sbj2 = \"forest\"\n",
    "sbj3 = \"dog\"\n",
    "\n",
    "person_list, person_title = choosePrompt(sbj1)\n",
    "forest_list, forest_title = choosePrompt(sbj2)\n",
    "dog_list, dog_title = choosePrompt(sbj3)"
   ]
  },
  {
   "cell_type": "markdown",
   "id": "28953812",
   "metadata": {},
   "source": [
    "#### Part 3 - Set Model Parameters"
   ]
  },
  {
   "cell_type": "code",
   "execution_count": 7,
   "id": "25b326d1",
   "metadata": {},
   "outputs": [],
   "source": [
    "# Set up our initial generation parameters.\n",
    "def setParameters(prompt):\n",
    "    answers = stability_api.generate(\n",
    "        prompt=prompt,\n",
    "        seed=0, # If a seed is provided, the resulting generated image will be deterministic.\n",
    "                        # What this means is that as long as all generation parameters remain the same, you can always recall the same image simply by generating it again.\n",
    "                        # Note: This isn't quite the case for Clip Guided generations, which we'll tackle in a future example notebook.\n",
    "        steps=30, # Amount of inference steps performed on image generation. Defaults to 30. \n",
    "        cfg_scale=7.0, # Influences how strongly your generation is guided to match your prompt.\n",
    "                       # Setting this value higher increases the strength in which it tries to match your prompt.\n",
    "                       # Defaults to 7.0 if not specified.\n",
    "        width=512, # Generation width, defaults to 512 if not included.\n",
    "        height=512, # Generation height, defaults to 512 if not included.\n",
    "        samples=1, # Number of images to generate, defaults to 1 if not included.\n",
    "        sampler=generation.SAMPLER_K_DPMPP_2M # Choose which sampler we want to denoise our generation with.\n",
    "                                                     # Defaults to k_dpmpp_2m if not specified. Clip Guidance only supports ancestral samplers.\n",
    "                                                     # (Available Samplers: ddim, plms, k_euler, k_euler_ancestral, k_heun, k_dpm_2, k_dpm_2_ancestral, k_dpmpp_2s_ancestral, k_lms, k_dpmpp_2m)\n",
    "    )\n",
    "    return answers"
   ]
  },
  {
   "cell_type": "markdown",
   "id": "15065ced",
   "metadata": {},
   "source": [
    "#### Part 4 - Generating the images"
   ]
  },
  {
   "cell_type": "code",
   "execution_count": 44,
   "id": "8804542f",
   "metadata": {},
   "outputs": [],
   "source": [
    "# Set up our warning to print to the console if the adult content classifier is tripped.\n",
    "# If adult content classifier is not tripped, save generated images.\n",
    "def genImage(sbj_list, sbj_title):\n",
    "    for i in range(len(sbj_list)):\n",
    "        answers = setParameters(sbj_list[i])\n",
    "        for resp in answers:\n",
    "            for artifact in resp.artifacts:\n",
    "                if artifact.finish_reason == generation.FILTER:\n",
    "                    warnings.warn(\n",
    "                        \"Your request activated the API's safety filters and could not be processed.\"\n",
    "                        \"Please modify the prompt and try again.\")\n",
    "                if artifact.type == generation.ARTIFACT_IMAGE:\n",
    "                    img = Image.open(io.BytesIO(artifact.binary))\n",
    "                    img.save(str(sbj_title[i])+ \".png\") # Save our generated images with their seed number as the filename."
   ]
  },
  {
   "cell_type": "code",
   "execution_count": 43,
   "id": "fe6fd77f",
   "metadata": {},
   "outputs": [],
   "source": [
    "genImage(person_list, person_title)\n",
    "genImage(forest_list, forest_title)\n",
    "genImage(dog_list, dog_title)"
   ]
  }
 ],
 "metadata": {
  "kernelspec": {
   "display_name": "Python 3 (ipykernel)",
   "language": "python",
   "name": "python3"
  },
  "language_info": {
   "codemirror_mode": {
    "name": "ipython",
    "version": 3
   },
   "file_extension": ".py",
   "mimetype": "text/x-python",
   "name": "python",
   "nbconvert_exporter": "python",
   "pygments_lexer": "ipython3",
   "version": "3.9.15"
  }
 },
 "nbformat": 4,
 "nbformat_minor": 5
}
